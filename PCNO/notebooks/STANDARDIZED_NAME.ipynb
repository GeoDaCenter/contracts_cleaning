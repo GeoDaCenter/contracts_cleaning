{
 "cells": [
  {
   "cell_type": "markdown",
   "metadata": {},
   "source": [
    "# Standardized Name (STANDARDIZED_NAME.py)\n",
    "\n",
    "Module written by Hossein Pourreza\n",
    "\n",
    "Jupyter Notebook written by Jerry Shi"
   ]
  },
  {
   "cell_type": "markdown",
   "metadata": {},
   "source": [
    "This module standardizes organization names by converting them to upper-case, removing punctuation, standardizing certain abbreviations, replacing multiple spaces with a single space, and stripping spaces from the beginning and end."
   ]
  },
  {
   "cell_type": "code",
   "execution_count": 4,
   "metadata": {},
   "outputs": [],
   "source": [
    "from STANDARDIZE_NAME import *"
   ]
  },
  {
   "cell_type": "markdown",
   "metadata": {},
   "source": [
    "First, import necessary functions to set up your environment.\n",
    "```\n",
    "import re\n",
    "import numpy as np\n",
    "from string import digits as DIGITS\n",
    "from string import punctuation as PUNCTUATION\n",
    "```"
   ]
  },
  {
   "cell_type": "markdown",
   "metadata": {},
   "source": [
    "Next, define new variables NPC (non-printing characters), PD, and BAD_SUBSTRINGS to replace new lines, tabs, punctuation, and other characters with no semantic value.\n",
    "```\n",
    "NPC = ['\\n','\\r','\\t']\n",
    "PD = PUNCTUATION + DIGITS\n",
    "BAD_SUBSTRINGS = ['�']\n",
    "```"
   ]
  },
  {
   "cell_type": "markdown",
   "metadata": {},
   "source": [
    "Create new function standardize_name and define input text as string.\n",
    "```\n",
    "def standardize_name(input_txt):\n",
    "\n",
    "    input_txt = str(input_txt)\n",
    "\n",
    "    # Because all but one of the re.sub expressions require the substring to end\n",
    "    # in a space, and because this does not work for substrings at the end of a\n",
    "    # string, add a single space to the end of all strings (which is later\n",
    "    # stripped off).\n",
    "    input_txt = input_txt.upper() + ' '\n",
    "```"
   ]
  },
  {
   "cell_type": "markdown",
   "metadata": {},
   "source": [
    "Unsure what this comment is supposed to be.\n",
    "```\n",
    "# Return np.NaN for org names that include 'POMONA' OR 'LOS ANGELES'\n",
    "    #if 'POMONA' in input_txt or 'LOS ANGELES' in input_txt:\n",
    "        #return np.NaN\n",
    "```"
   ]
  },
  {
   "cell_type": "markdown",
   "metadata": {},
   "source": [
    "Replace each non-printing character with a space and delete bad substrings.\n",
    "```\n",
    " # Replace each non-printing character with a space\n",
    "    for char in NPC:\n",
    "        input_txt = input_txt.replace(char,' ')\n",
    "\n",
    "    for substr in BAD_SUBSTRINGS:\n",
    "        input_txt = input_txt.replace(substr,'')\n",
    "```"
   ]
  },
  {
   "cell_type": "markdown",
   "metadata": {},
   "source": [
    "Next, some phrases and symbols are replaced. The ampersand symbol (&) is replaced with the text \" AND \" and the spanish phrase beginning with MUJERES LATINAS EN is read as MUJERES LATINAS EN ACCION to fix a character. Lastly, Y.M.C.A. and whatever precedes it (new line, space, or tab) is replaced with \" YMCA \" to remove punctuation and standardize it.\n",
    "```\n",
    "    input_txt = re.sub(\"&\",\" AND \",input_txt)\n",
    "\n",
    "    # Fix a stubborn non-ASCII character\n",
    "    \n",
    "    if input_txt.startswith('MUJERES LATINAS EN '):\n",
    "        return 'MUJERES LATINAS EN ACCION'\n",
    "```"
   ]
  },
  {
   "cell_type": "markdown",
   "metadata": {},
   "source": [
    "This part replaces punctuation with spaces.\n",
    "```\n",
    "    # Remove punctuation: delete apostrophes (and similar); replace others and\n",
    "    # digits with spaces\n",
    "    input_txt = re.sub(\"'\",\"\",input_txt)    # Apostrophe\n",
    "    input_txt = re.sub(\"’\",\"\",input_txt)    # Angled apostrophe\n",
    "    input_txt = re.sub(\"`\",\"\",input_txt)    # Backtick\n",
    "```"
   ]
  },
  {
   "cell_type": "markdown",
   "metadata": {},
   "source": [
    "This specific statement turns punctuation not replaced by the previous statements into space.\n",
    "```\n",
    "    input_txt = ''.join([x if x not in PD else ' ' for x in input_txt])\n",
    "```"
   ]
  },
  {
   "cell_type": "markdown",
   "metadata": {},
   "source": [
    "This next block of code replaces variations of common words with one variant.\n",
    "\n",
    "```\n",
    "    # Standardize several common words, delete stop words, and fix some known\n",
    "    # misspellings\n",
    "    input_txt = re.sub(\" INC($|\\s)\",\" \",input_txt)\n",
    "    input_txt = re.sub(\"(^|\\s)THE \",\" \",input_txt)\n",
    "    #input_txt = re.sub(\"(^|\\s)(NEW YORK CITY|CITY OF NEW YORK|NEW YORK|NYC) \", \" NY \", input_txt)\n",
    "    input_txt = re.sub(\"(^|\\s)(ASSOC|ASSN|ASSCTN) \", \" ASSOCIATION \", input_txt)\n",
    "    input_txt = re.sub(\"(^|\\s)BENEV \", \" BENEVOLENT \", input_txt)\n",
    "    input_txt = re.sub(\"(^|\\s)(SVC|SVCS|SERV|SRVS|SERVICE) \", \" SERVICES \", input_txt)\n",
    "    input_txt = re.sub(\"(^|\\s)AMBULANCE CORP \", \" AMBULANCE CORPS \", input_txt)\n",
    "    input_txt = re.sub(\"(^|\\s)(CORP|CORPORATION) \", \" \", input_txt)\n",
    "    input_txt = re.sub(\"(^|\\s)(CO|COMPANY) \", \" \", input_txt)\n",
    "    input_txt = re.sub(\"(^|\\s)NPF \", \" \", input_txt)\n",
    "    input_txt = re.sub(\"(^|\\s)DBA \", \" \", input_txt)\n",
    "    input_txt = re.sub(\"(^|\\s)C O \", \" \", input_txt)\n",
    "    input_txt = re.sub(\"(^|\\s)(SCH|SCHL) \", \" SCHOOL \", input_txt)\n",
    "    input_txt = re.sub(\"(^|\\s)SAINT \", \" ST \", input_txt)\n",
    "    #input_txt = re.sub(\"(^|\\s)COMM \", \" COMMUNITY \", input_txt)\n",
    "    input_txt = re.sub(\"(^|\\s)ORG \", \" ORGANIZATION \", input_txt)\n",
    "    input_txt = re.sub(\"(^|\\s)MGMT \", \" MANAGEMENT \", input_txt)\n",
    "    input_txt = re.sub(\"(^|\\s)(THEATRE|THTR) \", \" THEATER \", input_txt)\n",
    "    input_txt = re.sub(\"(^|\\s)WKSHP \", \" WORKSHOP \", input_txt)\n",
    "    input_txt = re.sub(\"(^|\\s)HOSP \", \" HOSPITAL \", input_txt)\n",
    "    input_txt = re.sub(\"(^|\\s)REHABILITATION \", \" REHAB \", input_txt)\n",
    "    input_txt = re.sub(\"(^|\\s)(DEV|DVLPMNT) \", \" DEVELOPMENT \", input_txt)\n",
    "    input_txt = re.sub(\"(^|\\s)COORD \", \" COORDINATING \", input_txt)\n",
    "    input_txt = re.sub(\"(^|\\s)BKLYN \", \" BROOKLYN \", input_txt)\n",
    "    input_txt = re.sub(\"(^|\\s)DPSTRY \", \" DEPOSITORY \", input_txt)\n",
    "    input_txt = re.sub(\"(^|\\s)(CTR|CNTR|CENT) \", \" CENTER \", input_txt)\n",
    "    input_txt = re.sub(\"(^|\\s)(IL|ILL|ILLIOIS) \", \" ILLINOIS \", input_txt)\n",
    "    input_txt = re.sub(\"(^|\\s)CENTERS \", \" CENTER \", input_txt)\n",
    "    input_txt = re.sub(\"(^|\\s)(CHGO|CHICGO|CHIC) \", \" CHICAGO \", input_txt)\n",
    "    input_txt = re.sub(\"(^|\\s)CHLDN \", \" CHILDREN \", input_txt)\n",
    "    input_txt = re.sub(\"(^|\\s)ALTERNTV \", \" ALTERNATIVE \", input_txt)\n",
    "    input_txt = re.sub(\"(^|\\s)SYSTS \", \" SYSTEMS \", input_txt)\n",
    "    input_txt = re.sub(\"(^|\\s)SUBN  \", \" SUBURBAN \", input_txt)\n",
    "    input_txt = re.sub(\"(^|\\s)INST \", \" INSTITUTE \", input_txt)\n",
    "    input_txt = re.sub(\"(^|\\s)HMN \", \" HUMAN \", input_txt)\n",
    "    input_txt = re.sub(\"(^|\\s)(DEPT|DPT) \", \" DEPARTMENT \", input_txt)\n",
    "    input_txt = re.sub(\"(^|\\s)(FNDT|FND) \", \" FOUNDATION \", input_txt)\n",
    "    input_txt = re.sub(\"(^|\\s)(UNIV|UNIVERITY) \", \" UNIVERSITY \", input_txt)\n",
    "    input_txt = re.sub(\"(^|\\s)HLTH \", \" HEALTH \", input_txt)\n",
    "    input_txt = re.sub(\"(^|\\s)PLCY \", \" POLICY \", input_txt)\n",
    "    input_txt = re.sub(\"(^|\\s)DIST \", \" DISTRICT \", input_txt)\n",
    "    input_txt = re.sub(\"(^|\\s)FMLY \", \" FAMILY \", input_txt)\n",
    "    input_txt = re.sub(\"(^|\\s)WKS \", \" WORKS \", input_txt)\n",
    "    input_txt = re.sub(\"(^|\\s)CMNTY \", \" COMMUNITY \", input_txt)\n",
    "    input_txt = re.sub(\"(^|\\s)NTWRK \", \" NETWORK \", input_txt)\n",
    "    input_txt = re.sub(\"(^|\\s)INC \", \" INCORPORATED \", input_txt)\n",
    "    input_txt = re.sub(\"(^|\\s)FOUNDATION FOUNDATION \", \"FOUNDATION \", input_txt)\n",
    "    #input_txt = re.sub(\"(^|\\s)CITY OF \", \"\", input_txt)\n",
    "```"
   ]
  },
  {
   "cell_type": "markdown",
   "metadata": {},
   "source": [
    "This next section removes corporation, llc, and other phrases from the end of address names.\n",
    "\n",
    "```\n",
    "# One vendor's name is missing a space, so just delete all remaining\n",
    "    # instances of 'CORPORATION '\n",
    "    input_txt = re.sub(\"CORPORATION \", \" \", input_txt)\n",
    "    input_txt = re.sub(\"(^|\\s)AND \", \" \", input_txt)\n",
    "    input_txt = re.sub(\"(^|\\s)OR \", \" \", input_txt)\n",
    "    input_txt = re.sub(\"(^|\\s)IN \", \" \", input_txt)\n",
    "    input_txt = re.sub(\"(^|\\s)ON \", \" \", input_txt)\n",
    "    input_txt = re.sub(\"(^|\\s)AT \", \" \", input_txt)\n",
    "    input_txt = re.sub(\"(^|\\s)FOR \", \" \", input_txt)\n",
    "    input_txt = re.sub(\"(^|\\s)THE \", \" \", input_txt)\n",
    "    #input_txt = re.sub(\"(^|\\s)A \", \" \", input_txt)\n",
    "    input_txt = re.sub(\"(^|\\s)AN \", \" \", input_txt)\n",
    "    input_txt = re.sub(\"(^|\\s)LLC \", \"\", input_txt)\n",
    "    input_txt = re.sub(\"(^|\\s)NFP \", \"\", input_txt)\n",
    "    input_txt = re.sub(\"(^|\\s)PC \", \"\", input_txt)\n",
    "    input_txt = re.sub(\"(^|\\s)DHQ \", \" \", input_txt)\n",
    "    input_txt = re.sub(\"(^|\\s)THEIR \", \" \", input_txt)\n",
    "    input_txt = re.sub(\"(^|\\s)SPF \", \" \", input_txt)\n",
    "```    "
   ]
  },
  {
   "cell_type": "markdown",
   "metadata": {},
   "source": [
    "Finally, before returning the standardized address name, multiple spaces are replaced with one space.\n",
    "```\n",
    "    # Replace multiple spaces with one\n",
    "    input_txt = re.sub('\\s+',' ',input_txt)\n",
    "    input_txt = input_txt.strip()\n",
    "\n",
    "    return input_txt\n",
    "```"
   ]
  },
  {
   "cell_type": "markdown",
   "metadata": {},
   "source": [
    "**Testing**"
   ]
  },
  {
   "cell_type": "code",
   "execution_count": 3,
   "metadata": {},
   "outputs": [
    {
     "data": {
      "text/plain": [
       "'BURTON JUDSON COURTS UNIVERSITY OF CHICAGO'"
      ]
     },
     "execution_count": 3,
     "metadata": {},
     "output_type": "execute_result"
    }
   ],
   "source": [
    "standardize_name('Burton Judson Courts at the University of Chicago')"
   ]
  }
 ],
 "metadata": {
  "kernelspec": {
   "display_name": "Python 3",
   "language": "python",
   "name": "python3"
  },
  "language_info": {
   "codemirror_mode": {
    "name": "ipython",
    "version": 3
   },
   "file_extension": ".py",
   "mimetype": "text/x-python",
   "name": "python",
   "nbconvert_exporter": "python",
   "pygments_lexer": "ipython3",
   "version": "3.6.5"
  }
 },
 "nbformat": 4,
 "nbformat_minor": 2
}
