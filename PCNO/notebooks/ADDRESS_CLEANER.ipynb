{
 "cells": [
  {
   "cell_type": "markdown",
   "metadata": {},
   "source": [
    "# ADDRESS_CLEANER\n",
    "Written in Python 3.6 by Erin Ochoa\n",
    "\n",
    "Jupyter Notebook written by Jerry Shi"
   ]
  },
  {
   "cell_type": "code",
   "execution_count": 1,
   "metadata": {},
   "outputs": [],
   "source": [
    "from ADDRESS_CLEANER import *"
   ]
  },
  {
   "cell_type": "markdown",
   "metadata": {},
   "source": [
    "This function cleans addresses by replacing forbidden characters with spaces or deleting them. It also standardizes addresses to some extent."
   ]
  },
  {
   "cell_type": "code",
   "execution_count": 2,
   "metadata": {},
   "outputs": [],
   "source": [
    "import re\n",
    "import numpy as np\n",
    "import pandas as pd"
   ]
  },
  {
   "cell_type": "markdown",
   "metadata": {},
   "source": [
    "First, regex, numpy, and pandas are imported. Then the function address_cleaner is defined."
   ]
  },
  {
   "cell_type": "markdown",
   "metadata": {},
   "source": [
    "```\n",
    "def address_cleaner(string):\n",
    "    # Contains non-printing characters that will be cleaned out of strings\n",
    "    cleaner = ['\\n','\\r','\\t']\n",
    "```\n",
    "\\n, \\r, and \\t mean new line, carriage return, and tab respectively.\n",
    "```\n",
    "    # Strip leading and trailing spaces, commas, & periods; convert to uppercase\n",
    "    string = string.strip(' ,./').upper()\n",
    "```\n",
    "Strip is a method in python to remove the characters inputted from the **beginning and end** of the string. For example,"
   ]
  },
  {
   "cell_type": "code",
   "execution_count": 3,
   "metadata": {},
   "outputs": [
    {
     "data": {
      "text/plain": [
       "'this is string example....wow!!!'"
      ]
     },
     "execution_count": 3,
     "metadata": {},
     "output_type": "execute_result"
    }
   ],
   "source": [
    "def ex_strip(string):\n",
    "    return string.strip( '0' )\n",
    "ex_strip(\"0000000this is string example....wow!!!0000000\")"
   ]
  },
  {
   "cell_type": "markdown",
   "metadata": {},
   "source": [
    "However, this means characters in the middle of the string will be ignored."
   ]
  },
  {
   "cell_type": "code",
   "execution_count": 4,
   "metadata": {},
   "outputs": [
    {
     "data": {
      "text/plain": [
       "'this 0 is 0 string 0 example....wow!!!'"
      ]
     },
     "execution_count": 4,
     "metadata": {},
     "output_type": "execute_result"
    }
   ],
   "source": [
    "ex_strip(\"0000000this 0 is 0 string 0 example....wow!!!0000000\")"
   ]
  },
  {
   "cell_type": "markdown",
   "metadata": {},
   "source": [
    "```\n",
    "# If present in the string, replace each NPC from cleaner with a space\n",
    "    for npc in cleaner:\n",
    "        string = string.replace(npc, ' ')\n",
    "```\n",
    "Next, a for statement is used to create a new variable npc that has the same definition as cleaner. The replace function is used to then replace npc (meaning \\n, \\r, \\t) with a space, effectively deleting them."
   ]
  },
  {
   "cell_type": "markdown",
   "metadata": {},
   "source": [
    "```\n",
    "# Replace multiple spaces with a single space\n",
    "    string = re.sub(r'\\s+',' ',string)\n",
    "```\n",
    "In this case, \\s matches Unicode whitespace characters, which includes \\t,\\n,\\r \\f,\\v, and also many other characters, for example the non-breaking spaces mandated by typography rules in many languages. The + appended to \\s means the function will match with one or more instances of \\s. \n",
    "\n",
    "Lastly, the r preceding '\\s+' is not part of the characters to be replaced but rather a part of regex syntax. Regular expressions use the backslash character ('\\') to indicate special forms or to allow special characters to be used without invoking their special meaning (\\s, for example). This collides with Python’s usage of the same character for the same purpose in string literals; for example, to match a literal backslash, one might have to write '\\\\\\\\' as the pattern string, because the regular expression must be \\\\, and each backslash must be expressed as \\\\ inside a regular Python string literal. Appending r to the beginning of the string means backslashes (and other special characters in Python syntax) are not handled in any special way.\n",
    "```\n",
    "    # Remove replacement character, which will break things later on\n",
    "    string = string.replace('�','')\n",
    "```\n",
    "String.replace avoids all the pitfalls of regular expressions (like escaping), and is generally faster. Thus, it is used whenever possible instead of re.sub.\n",
    "```\n",
    "    # Replace each parenthesis with a space\n",
    "    string = re.sub(r'\\(',' ',string)\n",
    "    string = re.sub(r'\\)',' ',string)\n",
    "```\n",
    "Escaping refers to when a backslash is used in regular expressions to allow for the use of special characters without invoking their special meanings. It is used here again to replace parenthesis."
   ]
  },
  {
   "cell_type": "markdown",
   "metadata": {},
   "source": [
    "```\n",
    "    # Standardize P.O. BOX\n",
    "    string = re.sub(r'^P\\.?\\s?O\\.?\\s?BOX','P.O. BOX',string)\n",
    "    string = re.sub(r'^POST\\s?OFFICE\\s?BOX','P.O. BOX',string)\n",
    "    string = re.sub(r'^POST\\s?OFC\\s?BOX','P.O. BOX',string)\n",
    "```\n",
    "Next, P.O. Box has to be standardized in spelling from it's various forms. In addition to escapes, **conditionals** are now used. A conditional is when a question mark is affixed to a character. In regular expression, this will cause the compiler to match with one or zero instances of the character. For example,"
   ]
  },
  {
   "cell_type": "code",
   "execution_count": 5,
   "metadata": {},
   "outputs": [
    {
     "ename": "NameError",
     "evalue": "name 'colour' is not defined",
     "output_type": "error",
     "traceback": [
      "\u001b[1;31m---------------------------------------------------------------------------\u001b[0m",
      "\u001b[1;31mNameError\u001b[0m                                 Traceback (most recent call last)",
      "\u001b[1;32m<ipython-input-5-154cd24ad06b>\u001b[0m in \u001b[0;36m<module>\u001b[1;34m()\u001b[0m\n\u001b[0;32m      2\u001b[0m     \u001b[0mstring\u001b[0m \u001b[1;33m=\u001b[0m \u001b[0mre\u001b[0m\u001b[1;33m.\u001b[0m\u001b[0msub\u001b[0m\u001b[1;33m(\u001b[0m\u001b[1;34m'colou?r'\u001b[0m\u001b[1;33m,\u001b[0m\u001b[1;34m'color'\u001b[0m\u001b[1;33m,\u001b[0m\u001b[0mstring\u001b[0m\u001b[1;33m)\u001b[0m\u001b[1;33m\u001b[0m\u001b[0m\n\u001b[0;32m      3\u001b[0m     \u001b[1;32mreturn\u001b[0m \u001b[0mstring\u001b[0m\u001b[1;33m\u001b[0m\u001b[0m\n\u001b[1;32m----> 4\u001b[1;33m \u001b[0mwhatmakesuparainbow\u001b[0m\u001b[1;33m(\u001b[0m\u001b[0mcolour\u001b[0m\u001b[1;33m)\u001b[0m\u001b[1;33m\u001b[0m\u001b[0m\n\u001b[0m",
      "\u001b[1;31mNameError\u001b[0m: name 'colour' is not defined"
     ]
    }
   ],
   "source": [
    "def whatmakesuparainbow(string):\n",
    "    string = re.sub('colou?r','color',string)\n",
    "    return string\n",
    "whatmakesuparainbow(colour)"
   ]
  },
  {
   "cell_type": "code",
   "execution_count": null,
   "metadata": {},
   "outputs": [],
   "source": []
  }
 ],
 "metadata": {
  "kernelspec": {
   "display_name": "Python 3",
   "language": "python",
   "name": "python3"
  },
  "language_info": {
   "codemirror_mode": {
    "name": "ipython",
    "version": 3
   },
   "file_extension": ".py",
   "mimetype": "text/x-python",
   "name": "python",
   "nbconvert_exporter": "python",
   "pygments_lexer": "ipython3",
   "version": "3.6.5"
  }
 },
 "nbformat": 4,
 "nbformat_minor": 2
}
