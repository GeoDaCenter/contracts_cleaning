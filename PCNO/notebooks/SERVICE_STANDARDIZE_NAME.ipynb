{
 "cells": [
  {
   "cell_type": "markdown",
   "metadata": {},
   "source": [
    "# SERVICE_STANDARDIZE_NAME\n",
    "Written in Python 3.6 by Erin Ochoa\n",
    "\n",
    "Jupyter Notebook written by Jerry Shi"
   ]
  },
  {
   "cell_type": "code",
   "execution_count": 1,
   "metadata": {},
   "outputs": [],
   "source": [
    "from SERVICE_STANDARDIZE_NAME import *"
   ]
  },
  {
   "cell_type": "markdown",
   "metadata": {},
   "source": [
    "In addition to the STANDARDIZE_NAME module, the SERVICE_STANDARDIZE_NAME module functions to further clean and standardize addresses. Data can be run through the standardize_name function of the former and/or stdname function of the latter."
   ]
  },
  {
   "cell_type": "markdown",
   "metadata": {},
   "source": [
    "First, the required python operator library of re is imported, as well as the STANDARDIZE_NAME module."
   ]
  },
  {
   "cell_type": "code",
   "execution_count": 2,
   "metadata": {},
   "outputs": [],
   "source": [
    "import re\n",
    "import STANDARDIZE_NAME as sname"
   ]
  },
  {
   "cell_type": "markdown",
   "metadata": {},
   "source": [
    "Next, a new function stdname is defined. The operand string is first processed using the standardize_name function of the previous module.\n",
    "```\n",
    "def stdname(string):\n",
    "    \n",
    "    string = sname.standardize_name(string)\n",
    "```"
   ]
  },
  {
   "cell_type": "markdown",
   "metadata": {},
   "source": [
    "After being run through the standardize_name function, some frivolous detail remains in the data. For example, University of Chicago Laboratory Schools can be simplified to University of Chicago. To clean the data, first determine organizations where removing suborganization names won't affect data analysis. Salvation Army of North Chicago and Salvation Army of South Side Chicago, for example, can be treated as the same organization for the sake of analysis. These organizations that can be condensed without losing detail are grouped into two categories: univs (universities) and others."
   ]
  },
  {
   "cell_type": "code",
   "execution_count": 3,
   "metadata": {},
   "outputs": [],
   "source": [
    "univs = ['UNIVERSITY OF CHICAGO','NORTHWESTERN UNIVERSITY',\n",
    "             'DEPAUL UNIVERSITY','RUSH UNIVERSITY','UNIVERSITY OF ILLINOIS',\n",
    "             'SOUTHERN ILLINOIS UNIVERSITY','ILLINOIS INSTITUTE OF TECHNOLOGY']\n",
    "\n",
    "others = ['SALVATION ARMY','EL VALOR','ERIE FAMILY HEALTH CENTER',\n",
    "              'FRESENIUS MEDICAL CARE','FRIEND FAMILY HEALTH CENTER',\n",
    "              'HUMAN RESOURCES DEVELOPMENT INSTITUTE']"
   ]
  },
  {
   "cell_type": "markdown",
   "metadata": {},
   "source": [
    "The variable item is initialized to combine both univs and others. A simple if statement replaces names with their simplified form: if a string starts with or ends with an item (meaning any organization in univs or others), item is returned rather the initial string.\n",
    "\n",
    "```\n",
    "    for item in univs + others:\n",
    "        if string.startswith(item) or string.endswith(item):\n",
    "            return item\n",
    "```"
   ]
  },
  {
   "cell_type": "markdown",
   "metadata": {},
   "source": [
    "Thus, University of Chicago Labratory School when run through the function stddname returns University of Chicago."
   ]
  },
  {
   "cell_type": "code",
   "execution_count": 4,
   "metadata": {},
   "outputs": [
    {
     "data": {
      "text/plain": [
       "'UNIVERSITY OF CHICAGO'"
      ]
     },
     "execution_count": 4,
     "metadata": {},
     "output_type": "execute_result"
    }
   ],
   "source": [
    "stdname('University of Chicago Labratory School')"
   ]
  },
  {
   "cell_type": "markdown",
   "metadata": {},
   "source": [
    "Similarly, the various catholic charitable ventures of Chicago are cleaned to become \"CATHOLIC CHARITIES OF ARCHDIOCESE OF CHICAGO\". A variable cath is initialized with all the different beginnings/endings of the various catholic charitable ventures. The variable c (meaning anything in cath) is initialized in a simple if statement: if a string starts with or ends with anything in cath, 'CATHOLIC CHARITIES OF ARCHDIOCESE OF CHICAGO' is returned.\n",
    "```\n",
    "    cath = ['CATHOLIC CHARITIES','CATHOLIC BISHOP OF CHICAGO',\n",
    "            'ARCHDIOCESE OF CHICAGO','ARCHDIOSIS OF CHICAGO']\n",
    "            \n",
    "    for c in cath:\n",
    "        if string.startswith(c) or string.endswith(c):\n",
    "            return 'CATHOLIC CHARITIES OF ARCHDIOCESE OF CHICAGO'\n",
    "```"
   ]
  },
  {
   "cell_type": "markdown",
   "metadata": {},
   "source": [
    "The last cleaning is for a select few organizations but this time a different method is used to store variables for comparison: a dictionary. [According to W3Schools](https://www.w3schools.com/python/python_dictionaries.asp), a dictionary is a collection which is unordered, changeable and indexed. In Python dictionaries are written with curly brackets, and they have keys and values."
   ]
  },
  {
   "cell_type": "code",
   "execution_count": 5,
   "metadata": {},
   "outputs": [],
   "source": [
    "    dicto = {'CHURCH OF JSUS CHRIST OF LD STS':'CHURCH OF JESUS CHRIST OF LATTER DAY SAINTS',\n",
    "             'EASTER SEALS':'EASTER SEALS METROPOLITAN CHICAGO',\n",
    "             '^UIC ':'UNIVERSITY OF ILLINOIS',\n",
    "             '^UNIVERSITY ILLINOIS ':'UNIVERSITY OF ILLINOIS'\n",
    "            }"
   ]
  },
  {
   "cell_type": "markdown",
   "metadata": {},
   "source": [
    "Thus, a disctionary is defined with several key-value pairs. ^ means \"begins with\" in regex (recall we imported regex in the first two lines)."
   ]
  },
  {
   "cell_type": "markdown",
   "metadata": {},
   "source": [
    "    for key, value in dicto.items():\n",
    "        if re.findall(key,string):\n",
    "            return value"
   ]
  },
  {
   "cell_type": "markdown",
   "metadata": {},
   "source": [
    "Next, using these key-value pairs, we use a regex function - findall - to find any instances of keys from the dictionary in the inputted string. Any keys found are replaced with their respective value from the dictionary with the simple \"return value\" command. Rather than systematically cleaning certain organizations (catholic charitable ventures, schools, etc.), this method of standardizing names is more suited for a select few instances. "
   ]
  },
  {
   "cell_type": "markdown",
   "metadata": {},
   "source": [
    "```\n",
    "return string\n",
    "```"
   ]
  },
  {
   "cell_type": "markdown",
   "metadata": {},
   "source": [
    "Lastly, the altered string is returned and this function is completed."
   ]
  }
 ],
 "metadata": {
  "kernelspec": {
   "display_name": "Python 3",
   "language": "python",
   "name": "python3"
  },
  "language_info": {
   "codemirror_mode": {
    "name": "ipython",
    "version": 3
   },
   "file_extension": ".py",
   "mimetype": "text/x-python",
   "name": "python",
   "nbconvert_exporter": "python",
   "pygments_lexer": "ipython3",
   "version": "3.6.5"
  }
 },
 "nbformat": 4,
 "nbformat_minor": 2
}
